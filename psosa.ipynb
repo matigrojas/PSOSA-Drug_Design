{
 "cells": [
  {
   "cell_type": "code",
   "execution_count": 1,
   "metadata": {},
   "outputs": [],
   "source": [
    "from problem.diabetes_problem import DiabetesDocking\n",
    "from algorithm.psosa import ParticleSwarmSA\n",
    "from operators.mutation import AddMutation, RemoveMutation, ReplaceMutation\n",
    "from operators.crossover import SmilesCrossover\n",
    "\n",
    "from rdkit.Chem import Draw, MolFromSmiles\n"
   ]
  },
  {
   "cell_type": "code",
   "execution_count": 2,
   "metadata": {},
   "outputs": [],
   "source": [
    "problem = DiabetesDocking(bank_dir='./data/banks_papyrus/bank_1.csv')"
   ]
  },
  {
   "cell_type": "code",
   "execution_count": 3,
   "metadata": {},
   "outputs": [],
   "source": [
    "algorithm = ParticleSwarmSA(\n",
    "    problem=problem,\n",
    "    swarm_size=100,\n",
    "    add_mutation=AddMutation(1.),\n",
    "    remove_mutation=RemoveMutation(1.),\n",
    "    replace_mutation=ReplaceMutation(1.),\n",
    "    crossover=SmilesCrossover(1.),\n",
    "    max_evaluations=10000,\n",
    "    save_smiles_dir='./results/pruebaPSOSA_dock.csv',\n",
    ")"
   ]
  },
  {
   "cell_type": "code",
   "execution_count": null,
   "metadata": {},
   "outputs": [],
   "source": [
    "algorithm.run()"
   ]
  },
  {
   "cell_type": "code",
   "execution_count": null,
   "metadata": {},
   "outputs": [],
   "source": [
    "print(f'Best Fitness: {algorithm.global_best.objectives[0]}')"
   ]
  },
  {
   "cell_type": "code",
   "execution_count": null,
   "metadata": {},
   "outputs": [],
   "source": [
    "Draw.MolToImage(MolFromSmiles(algorithm.global_best.variables))"
   ]
  },
  {
   "cell_type": "code",
   "execution_count": null,
   "metadata": {},
   "outputs": [],
   "source": [
    "print(f'Best SMILE found: {algorithm.global_best.variables}')"
   ]
  },
  {
   "cell_type": "code",
   "execution_count": null,
   "metadata": {},
   "outputs": [],
   "source": [
    "print(f'Time elapsed: {algorithm.total_computing_time}')"
   ]
  }
 ],
 "metadata": {
  "kernelspec": {
   "display_name": "3.10.13",
   "language": "python",
   "name": "python3"
  },
  "language_info": {
   "codemirror_mode": {
    "name": "ipython",
    "version": 3
   },
   "file_extension": ".py",
   "mimetype": "text/x-python",
   "name": "python",
   "nbconvert_exporter": "python",
   "pygments_lexer": "ipython3",
   "version": "3.10.13"
  }
 },
 "nbformat": 4,
 "nbformat_minor": 2
}
