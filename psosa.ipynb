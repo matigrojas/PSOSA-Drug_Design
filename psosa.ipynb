{
 "cells": [
  {
   "cell_type": "code",
   "execution_count": 1,
   "metadata": {},
   "outputs": [],
   "source": [
    "from problem.drug_likeness import DrugLikeness\n",
    "from algorithm.psosa import ParticleSwarmSA\n",
    "from operators.mutation import AddMutation, RemoveMutation, ReplaceMutation\n",
    "from operators.crossover import SmilesCrossover\n",
    "\n",
    "from rdkit.Chem import Draw, MolFromSmiles\n"
   ]
  },
  {
   "cell_type": "code",
   "execution_count": 2,
   "metadata": {},
   "outputs": [],
   "source": [
    "problem = DrugLikeness(qed_coef=0.9, bank_dir='./data/banks_papyrus/bank_1.csv')"
   ]
  },
  {
   "cell_type": "code",
   "execution_count": 3,
   "metadata": {},
   "outputs": [],
   "source": [
    "algorithm = ParticleSwarmSA(\n",
    "    problem=problem,\n",
    "    swarm_size=100,\n",
    "    add_mutation=AddMutation(1.),\n",
    "    remove_mutation=RemoveMutation(1.),\n",
    "    replace_mutation=ReplaceMutation(1.),\n",
    "    crossover=SmilesCrossover(1.),\n",
    "    max_evaluations=100000,\n",
    "    save_smiles_dir='./results/pruebaPSOSA.csv',\n",
    ")"
   ]
  },
  {
   "cell_type": "code",
   "execution_count": 4,
   "metadata": {},
   "outputs": [
    {
     "name": "stdout",
     "output_type": "stream",
     "text": [
      "Evaluations: 1000, Best Fitness Value: 0.9311614549950552, QED: 0.941098897678058, SAS: 1.5827552915197032\n",
      "Evaluations: 8398, Best Fitness Value: 0.9332359602788365, QED: 0.9471724212823781, SAS: 1.9219218875303756\n",
      "Evaluations: 15791, Best Fitness Value: 0.9332359602788365, QED: 0.9471724212823781, SAS: 1.9219218875303756\n",
      "Evaluations: 23184, Best Fitness Value: 0.9332359602788365, QED: 0.9471724212823781, SAS: 1.9219218875303756\n",
      "Evaluations: 30575, Best Fitness Value: 0.9332359602788365, QED: 0.9471724212823781, SAS: 1.9219218875303756\n",
      "Evaluations: 37970, Best Fitness Value: 0.9332359602788365, QED: 0.9471724212823781, SAS: 1.9219218875303756\n",
      "Evaluations: 45363, Best Fitness Value: 0.9332359602788365, QED: 0.9471724212823781, SAS: 1.9219218875303756\n",
      "Evaluations: 52755, Best Fitness Value: 0.9332359602788365, QED: 0.9471724212823781, SAS: 1.9219218875303756\n",
      "Evaluations: 60144, Best Fitness Value: 0.9332359602788365, QED: 0.9471724212823781, SAS: 1.9219218875303756\n",
      "Evaluations: 67536, Best Fitness Value: 0.9332359602788365, QED: 0.9471724212823781, SAS: 1.9219218875303756\n",
      "Evaluations: 74928, Best Fitness Value: 0.9332359602788365, QED: 0.9471724212823781, SAS: 1.9219218875303756\n",
      "Evaluations: 82319, Best Fitness Value: 0.9332359602788365, QED: 0.9471724212823781, SAS: 1.9219218875303756\n",
      "Evaluations: 89710, Best Fitness Value: 0.9332359602788365, QED: 0.9471724212823781, SAS: 1.9219218875303756\n",
      "Evaluations: 97096, Best Fitness Value: 0.9332359602788365, QED: 0.9471724212823781, SAS: 1.9219218875303756\n",
      "Evaluations: 104494, Best Fitness Value: 0.9332359602788365, QED: 0.9471724212823781, SAS: 1.9219218875303756\n"
     ]
    }
   ],
   "source": [
    "algorithm.run()"
   ]
  },
  {
   "cell_type": "code",
   "execution_count": 9,
   "metadata": {},
   "outputs": [
    {
     "name": "stdout",
     "output_type": "stream",
     "text": [
      "Best Fitness: 0.9332359602788365\n"
     ]
    }
   ],
   "source": [
    "print(f'Best Fitness: {algorithm.global_best.objectives[0]}')"
   ]
  },
  {
   "cell_type": "code",
   "execution_count": 10,
   "metadata": {},
   "outputs": [
    {
     "data": {
      "image/jpeg": "[encoded data removed]",
      "image/png": "[encoded data removed]",
      "text/plain": [
       "<PIL.PngImagePlugin.PngImageFile image mode=RGB size=300x300>"
      ]
     },
     "execution_count": 10,
     "metadata": {},
     "output_type": "execute_result"
    }
   ],
   "source": [
    "Draw.MolToImage(MolFromSmiles(algorithm.global_best.variables))"
   ]
  },
  {
   "cell_type": "code",
   "execution_count": 11,
   "metadata": {},
   "outputs": [
    {
     "name": "stdout",
     "output_type": "stream",
     "text": [
      "Best SMILE found: N(C(c1nn(C)cc1Br)=O)c1ccc(OC)cc1\n"
     ]
    }
   ],
   "source": [
    "print(f'Best SMILE found: {algorithm.global_best.variables}')"
   ]
  },
  {
   "cell_type": "code",
   "execution_count": 12,
   "metadata": {},
   "outputs": [
    {
     "name": "stdout",
     "output_type": "stream",
     "text": [
      "Time elapsed: 449.8901650905609\n"
     ]
    }
   ],
   "source": [
    "print(f'Time elapsed: {algorithm.total_computing_time}')"
   ]
  }
 ],
 "metadata": {
  "kernelspec": {
   "display_name": "Python 3",
   "language": "python",
   "name": "python3"
  },
  "language_info": {
   "codemirror_mode": {
    "name": "ipython",
    "version": 3
   },
   "file_extension": ".py",
   "mimetype": "text/x-python",
   "name": "python",
   "nbconvert_exporter": "python",
   "pygments_lexer": "ipython3",
   "version": "3.9.7"
  }
 },
 "nbformat": 4,
 "nbformat_minor": 2
}
